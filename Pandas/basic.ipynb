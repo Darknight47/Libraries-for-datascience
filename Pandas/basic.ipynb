{
 "cells": [
  {
   "cell_type": "markdown",
   "metadata": {},
   "source": [
    "## Pandas Intro\n",
    "Pandas is an open-source data analysis and manipulation library for Python. It provides data structures and functions needed to work with structured data seamlessly.  \n",
    "The two primary data structures in Pandas are Series (1-dimensional) and DataFrame (2-dimensional)."
   ]
  },
  {
   "cell_type": "code",
   "execution_count": null,
   "metadata": {},
   "outputs": [],
   "source": [
    "# To install Pandas, use the following command:\n",
    "# pip install pandas"
   ]
  },
  {
   "cell_type": "code",
   "execution_count": 1,
   "metadata": {},
   "outputs": [],
   "source": [
    "# Importing Pandas\n",
    "import pandas as pd"
   ]
  },
  {
   "cell_type": "code",
   "execution_count": 2,
   "metadata": {},
   "outputs": [
    {
     "name": "stdout",
     "output_type": "stream",
     "text": [
      "0    1\n",
      "1    2\n",
      "2    3\n",
      "3    4\n",
      "4    5\n",
      "dtype: int64\n"
     ]
    }
   ],
   "source": [
    "# A Series is a one-dimensional labeled array capable of holding any data type.\n",
    "# Creating a simple Series\n",
    "data = [1, 2, 3, 4, 5]\n",
    "series = pd.Series(data)\n",
    "print(series)\n",
    "# The index of a Series can be explicitly defined using the index parameter.\n",
    "# Series are similar to NumPy arrays, but they have labels."
   ]
  },
  {
   "cell_type": "code",
   "execution_count": 3,
   "metadata": {},
   "outputs": [
    {
     "name": "stdout",
     "output_type": "stream",
     "text": [
      "    Name  Age      City\n",
      "0   John   28  New York\n",
      "1   Anna   24     Paris\n",
      "2  Peter   35    Berlin\n",
      "3  Linda   32    London\n"
     ]
    }
   ],
   "source": [
    "# A DataFrame is a two-dimensional labeled data structure with columns of potentially different types.\n",
    "# A dictionary\n",
    "data = {\n",
    "    'Name': ['John', 'Anna', 'Peter', 'Linda'],\n",
    "    'Age': [28, 24, 35, 32],\n",
    "    'City': ['New York', 'Paris', 'Berlin', 'London']\n",
    "}\n",
    "# Creating a simple DataFrame\n",
    "df = pd.DataFrame(data)\n",
    "print(df)\n",
    "# A DataFrame is similar to a table in a relational database.\n",
    "# It can be created from a dictionary, list, or another DataFrame."
   ]
  },
  {
   "cell_type": "code",
   "execution_count": 4,
   "metadata": {},
   "outputs": [
    {
     "name": "stdout",
     "output_type": "stream",
     "text": [
      "a    1\n",
      "b    2\n",
      "c    3\n",
      "d    4\n",
      "e    5\n",
      "dtype: int64\n"
     ]
    }
   ],
   "source": [
    "data = [1, 2, 3, 4, 5]\n",
    "index = ['a', 'b', 'c', 'd', 'e']\n",
    "series = pd.Series(data, index=index)\n",
    "# Series can also be created from dictionaries.\n",
    "# Operations on Series are typically element-wise.\n",
    "print(series)"
   ]
  },
  {
   "cell_type": "markdown",
   "metadata": {},
   "source": [
    "### Pandas DataFrame"
   ]
  },
  {
   "cell_type": "code",
   "execution_count": 13,
   "metadata": {},
   "outputs": [
    {
     "name": "stdout",
     "output_type": "stream",
     "text": [
      "    Name  Age      City\n",
      "0   John   28  New York\n",
      "1   Anna   24     Paris\n",
      "2  Peter   35    Berlin\n",
      "3  Linda   32    London\n",
      "--------------\n",
      "Name Column:\n",
      "0     John\n",
      "1     Anna\n",
      "2    Peter\n",
      "3    Linda\n",
      "Name: Name, dtype: object\n",
      "--------------\n",
      "Two Columns:\n",
      "    Name      City\n",
      "0   John  New York\n",
      "1   Anna     Paris\n",
      "2  Peter    Berlin\n",
      "3  Linda    London\n",
      "--------------\n",
      "Second row:\n",
      "Name     Anna\n",
      "Age        24\n",
      "City    Paris\n",
      "Name: 1, dtype: object\n",
      "--------------\n",
      "Selecting a row by integer location:\n",
      "Name     Peter\n",
      "Age         35\n",
      "City    Berlin\n",
      "Name: 2, dtype: object\n"
     ]
    }
   ],
   "source": [
    "data = {\n",
    "    'Name': ['John', 'Anna', 'Peter', 'Linda'],\n",
    "    'Age': [28, 24, 35, 32],\n",
    "    'City': ['New York', 'Paris', 'Berlin', 'London']\n",
    "}\n",
    "\n",
    "df = pd.DataFrame(data)\n",
    "\n",
    "print(df)\n",
    "print(\"--------------\")\n",
    "# Selecting a column\n",
    "print(\"Name Column:\")\n",
    "print(df['Name'])\n",
    "print(\"--------------\")\n",
    "\n",
    "# Selecting multiple columns\n",
    "print(\"Two Columns:\")\n",
    "print(df[['Name', 'City']])\n",
    "print(\"--------------\")\n",
    "\n",
    "# Selecting a row by label\n",
    "print(\"Second row:\")\n",
    "print(df.loc[1])\n",
    "print(\"--------------\")\n",
    "# Selecting a row by integer location\n",
    "print(\"Selecting a row by integer location:\")\n",
    "print(df.iloc[2])\n",
    "\n",
    "# Use loc to select by label and iloc to select by integer location.\n",
    "# You can also use slicing and conditional selection."
   ]
  },
  {
   "cell_type": "markdown",
   "metadata": {},
   "source": [
    "### Pandas reading files"
   ]
  },
  {
   "cell_type": "code",
   "execution_count": null,
   "metadata": {},
   "outputs": [],
   "source": [
    "# Reading a CSV file\n",
    "df = pd.read_csv('address/nameOfTheDataset.csv')\n",
    "\n",
    "print(df.head())  # Print the first 5 rows of the DataFrame\n",
    "\n",
    "# The read_csv function is highly customizable with parameters like sep, header, names, index_col, etc.\n",
    "# Use df.head() to quickly inspect the first few rows of a DataFrame."
   ]
  },
  {
   "cell_type": "code",
   "execution_count": null,
   "metadata": {},
   "outputs": [],
   "source": [
    "# Reading a JSON file\n",
    "df = pd.read_json('address/nameOfTheDataset.json')\n",
    "\n",
    "print(df.head())  # Print the first 5 rows of the DataFrame\n",
    "\n",
    "# The read_json function can parse JSON strings or files into DataFrames.\n",
    "# JSON data should be in a format that Pandas can convert directly into a table-like structure."
   ]
  },
  {
   "cell_type": "markdown",
   "metadata": {},
   "source": [
    "### Pandas Analyzing Data"
   ]
  },
  {
   "cell_type": "code",
   "execution_count": 17,
   "metadata": {},
   "outputs": [
    {
     "name": "stdout",
     "output_type": "stream",
     "text": [
      "             Age\n",
      "count   4.000000\n",
      "mean   29.750000\n",
      "std     4.787136\n",
      "min    24.000000\n",
      "25%    27.000000\n",
      "50%    30.000000\n",
      "75%    32.750000\n",
      "max    35.000000\n",
      "----------------------\n",
      "Mean value of Age column: 29.75\n",
      "----------------------\n",
      "Persons older than 30 years old:\n",
      "    Name  Age    City\n",
      "2  Peter   35  Berlin\n",
      "3  Linda   32  London\n"
     ]
    }
   ],
   "source": [
    "data = {\n",
    "    'Name': ['John', 'Anna', 'Peter', 'Linda'],\n",
    "    'Age': [28, 24, 35, 32],\n",
    "    'City': ['New York', 'Paris', 'Berlin', 'London']\n",
    "}\n",
    "\n",
    "df = pd.DataFrame(data)\n",
    "\n",
    "# Descriptive statistics\n",
    "print(df.describe())\n",
    "print(\"----------------------\")\n",
    "# Mean of a column\n",
    "print(\"Mean value of Age column:\", df['Age'].mean())\n",
    "print(\"----------------------\")\n",
    "# Filtering data\n",
    "print(\"Persons older than 30 years old:\")\n",
    "print(df[df['Age'] > 30])"
   ]
  }
 ],
 "metadata": {
  "kernelspec": {
   "display_name": "Python 3",
   "language": "python",
   "name": "python3"
  },
  "language_info": {
   "codemirror_mode": {
    "name": "ipython",
    "version": 3
   },
   "file_extension": ".py",
   "mimetype": "text/x-python",
   "name": "python",
   "nbconvert_exporter": "python",
   "pygments_lexer": "ipython3",
   "version": "3.12.2"
  }
 },
 "nbformat": 4,
 "nbformat_minor": 2
}
