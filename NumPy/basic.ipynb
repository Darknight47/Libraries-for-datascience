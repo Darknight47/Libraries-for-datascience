{
 "cells": [
  {
   "cell_type": "markdown",
   "metadata": {},
   "source": [
    "## Getting Started "
   ]
  },
  {
   "cell_type": "code",
   "execution_count": 1,
   "metadata": {},
   "outputs": [],
   "source": [
    "# To get started with NumPy, you need to install it first. You can do it with below 'pip':\n",
    "# pip install numpy\n",
    "\n",
    "# Importing NumPy Library into our file\n",
    "import numpy as np"
   ]
  },
  {
   "cell_type": "markdown",
   "metadata": {},
   "source": [
    "## NumPy Creating Arrays"
   ]
  },
  {
   "cell_type": "code",
   "execution_count": 12,
   "metadata": {},
   "outputs": [
    {
     "name": "stdout",
     "output_type": "stream",
     "text": [
      "1D array: ['1' '2' 'a' '4' '5']\n",
      "2D array: [1 2 3] [4 5 6]\n",
      "Number of dimensions: 2\n",
      "high_d_array: [[[[1 2 3 4 5]]]]\n",
      "high_d_array number of dimensions: 5\n"
     ]
    }
   ],
   "source": [
    "# Creating 1-D array\n",
    "one_d_arr = np.array([1, 2, 3, 4, 5])\n",
    "print(\"1D array:\", one_d_arr)\n",
    "\n",
    "# Creating 2-D array\n",
    "two_d_arr = np.array([[1, 2, 3], [4, 5, 6]])\n",
    "print(\"2D array:\", *two_d_arr)\n",
    "\n",
    "# Checking array's number of dimensions\n",
    "print(\"Number of dimensions:\", two_d_arr.ndim)\n",
    "\n",
    "# Creating arrays with higher dimensions\n",
    "high_d_array = np.array([1, 2, 3, 4, 5], ndmin=5)\n",
    "print(\"high_d_array:\", *high_d_array)\n",
    "print(\"high_d_array number of dimensions:\", high_d_array.ndim)\n",
    "\n"
   ]
  },
  {
   "cell_type": "markdown",
   "metadata": {},
   "source": [
    "## NumPy Array Indexing"
   ]
  },
  {
   "cell_type": "code",
   "execution_count": 18,
   "metadata": {},
   "outputs": [
    {
     "name": "stdout",
     "output_type": "stream",
     "text": [
      "First element of the 1D array: a\n",
      "Third element of the 1D array: c\n",
      "First element of the first nested array: z\n",
      "Third element of the second nested array: c\n",
      "The last element of the second nested array: f\n",
      "The second element of the third nested array: h\n"
     ]
    }
   ],
   "source": [
    "arr = np.array(['a', 'b', 'c', 'd'])\n",
    "\n",
    "# Accessing the first element of the 1D-array\n",
    "print(\"First element of the 1D array:\", arr[0])\n",
    "\n",
    "# Accessing the third element of the 1D-array\n",
    "print(\"Third element of the 1D array:\", arr[2])\n",
    "\n",
    "arr_2d = np.array([['z', 'y', 'x'], ['a', 'b', 'c']])\n",
    "\n",
    "# Accessing the first element of the 2D-array, (the first element of the first nested array)\n",
    "print(\"First element of the first nested array:\", arr_2d[0][0])\n",
    "\n",
    "# Accessing the third element of the 2D-array, (the second element of the third nested array)\n",
    "print(\"Third element of the second nested array:\", arr_2d[1][2])\n",
    "\n",
    "arr_3d = np.array([['a', 'b', 'c'], ['d', 'e', 'f'], ['g', 'h', 'i']])\n",
    "\n",
    "# Acessing the last element of the second nested array by using NEGATIVE INDEXING.\n",
    "print(\"The last element of the second nested array:\", arr_3d[1][-1])\n",
    "\n",
    "print(\"The second element of the third nested array:\", arr_3d[-1][-2])"
   ]
  },
  {
   "cell_type": "markdown",
   "metadata": {},
   "source": [
    "## NumPy Array Slicing"
   ]
  },
  {
   "cell_type": "code",
   "execution_count": 34,
   "metadata": {},
   "outputs": [
    {
     "name": "stdout",
     "output_type": "stream",
     "text": [
      "Slicing with startIndex:1 and endIndex:5 ['b' 'c' 'd' 'e']\n",
      "Slicing from index 3 to the end of the array: ['d' 'e' 'f' 'g']\n",
      "Slicing from the beginning of the array to index 5: ['a' 'b' 'c' 'd' 'e']\n",
      "Slicing for getting the last two element of the array: ['e' 'f']\n",
      "Every other elements of the array, starting from index(1): ['b' 'd' 'f']\n",
      "Every other elements of the entire array: ['a' 'c' 'e' 'g']\n",
      "slice elements from index 1 to index 4 from second nested array: ['b' 'c' 'd']\n"
     ]
    }
   ],
   "source": [
    "# Taking elements from one given index to another given index.\n",
    "# We pass slice instead of index like this: [start:end] = [start(inclusive) : end(exclusive)]\n",
    "# We can also define the step, like this: [start:end:step].\n",
    "\n",
    "arr = np.array(['a', 'b', 'c', 'd', 'e', 'f', 'g'])\n",
    "\n",
    "# [start:end] = [start(inclusive) : end(exclusive)]\n",
    "print(\"Slicing with startIndex:1 and endIndex:5\", arr[1:5]) # Prints out element(1), element(2), element(3), element(4).\n",
    "\n",
    "# Slicing from a specific index to the end of the array [3: ]\n",
    "print(\"Slicing from index 3 to the end of the array:\", arr[3: ])\n",
    "\n",
    "# Slicing from start of the array to a specific index (not included).\n",
    "print(\"Slicing from the beginning of the array to index 5:\", arr[ :5])\n",
    "\n",
    "# Slicing with negative indexes\n",
    "print(\"Slicing for getting the last two element of the array:\", arr[-3 : -1])\n",
    "\n",
    "# Getting every other elements of the array by using STEP, like this: [start:end:step].\n",
    "print(\"Every other elements of the array, starting from index(1):\", arr[1:7:2])\n",
    "\n",
    "# Getting every other elements of the entire array\n",
    "print(\"Every other elements of the entire array:\", arr[::2]) \n",
    "\n",
    "arr_2d = np.array([['z', 'y', 'x', 'p', 'q', 'w'], ['a', 'b', 'c', 'd', 'e', 'f']])\n",
    "\n",
    "# Slicing element from the second nested array, from index 1 to index 4 (not included).\n",
    "print(\"slice elements from index 1 to index 4 from second nested array:\", arr_2d[1, 1:4])"
   ]
  },
  {
   "cell_type": "markdown",
   "metadata": {},
   "source": [
    "## NumPy Data Types"
   ]
  },
  {
   "cell_type": "code",
   "execution_count": 41,
   "metadata": {},
   "outputs": [
    {
     "name": "stdout",
     "output_type": "stream",
     "text": [
      "array datatype: int32\n",
      "array2 datatype: <U1\n",
      "array3 datatype: |S1\n",
      "[b'1' b'2']\n",
      "array4 type: (converted from boolean to int) int32\n"
     ]
    }
   ],
   "source": [
    "# strings - used to represent text data.\n",
    "# integer - used to represent integer numbers.\n",
    "# float - used to represent real numbers. \n",
    "# boolean - used to represent True or False.\n",
    "# complex - used to represent complex numbers.\n",
    "\n",
    "# i - integer\n",
    "# b - boolean\n",
    "# u - unsigned integer\n",
    "# f - float\n",
    "# c - complex float\n",
    "# m - timedelta\n",
    "# M - datetime\n",
    "# O - object\n",
    "# S - string\n",
    "# U - unicode string\n",
    "# V - fixed chunk of memory for other type ( void )\n",
    "\n",
    "arr1 = np.array([1, 2, 3])\n",
    "print(\"array datatype:\", arr1.dtype)\n",
    "\n",
    "arr2 = np.array(['a', 'b', 'c'])\n",
    "print(\"array2 datatype:\", arr2.dtype)\n",
    "\n",
    "# Defining datatypes\n",
    "arr3 = np.array([1, 2], dtype='S')\n",
    "print(\"array3 datatype:\", arr3.dtype)\n",
    "print(arr3)\n",
    "\n",
    "# Converting datatypes\n",
    "arr4 = np.array([1.2, 3.5, 1.5])\n",
    "arr4_converted = arr4.astype(int)\n",
    "print(\"array4 type: (converted from boolean to int)\", arr4_converted.dtype)"
   ]
  },
  {
   "cell_type": "markdown",
   "metadata": {},
   "source": [
    "## NumPy Copy vs View"
   ]
  },
  {
   "cell_type": "code",
   "execution_count": 43,
   "metadata": {},
   "outputs": [
    {
     "name": "stdout",
     "output_type": "stream",
     "text": [
      "Original array: [44  2  3  4  5]\n",
      "Copy array: [1 2 3 4 5]\n",
      "Original array: [44 55  3  4  5]\n",
      "View array: [44 55  3  4  5]\n"
     ]
    }
   ],
   "source": [
    "# The main difference between a copy and a view of an array is that the copy is a new array, and the view is just a view of the original array.\n",
    "original_array = np.array([1, 2, 3, 4, 5])\n",
    "copy_array = original_array.copy() # A new array of arr\n",
    "original_array[0] = 44 # Modifying the first element of the arr (original array).\n",
    "print(\"Original array:\", original_array)\n",
    "print(\"Copy array:\", copy_array)\n",
    "\n",
    "view_array = original_array.view()\n",
    "original_array[1] = 55 #Modirying the second element of the original array.\n",
    "print(\"Original array:\", original_array)\n",
    "print(\"View array:\", view_array)"
   ]
  },
  {
   "cell_type": "markdown",
   "metadata": {},
   "source": [
    "## NumPy Array Shape"
   ]
  },
  {
   "cell_type": "code",
   "execution_count": 45,
   "metadata": {},
   "outputs": [
    {
     "name": "stdout",
     "output_type": "stream",
     "text": [
      "(2, 4)\n",
      "[[[[[1 2 3 4]]]]]\n",
      "shape of array : (1, 1, 1, 1, 4)\n"
     ]
    }
   ],
   "source": [
    "# The shape of an array is the number of elements in each dimension.\n",
    "arr = np.array([[1, 2, 3, 4], [5, 6, 7, 8]])\n",
    "print(arr.shape) # Prints out (2, 4) which means the array has 2 nested arrays (a 2D array) and each sub-array has 4 elements.\n",
    "# Integers at every index tells about the number of elements the corresponding dimension has.\n",
    "\n",
    "arr_fived = np.array([1, 2, 3, 4], ndmin=5)\n",
    "print(arr_fived)\n",
    "print('shape of array :', arr_fived.shape) # Number of elements in each dimension."
   ]
  },
  {
   "cell_type": "markdown",
   "metadata": {},
   "source": [
    "## NumPy Array Reshape"
   ]
  },
  {
   "cell_type": "code",
   "execution_count": 47,
   "metadata": {},
   "outputs": [
    {
     "name": "stdout",
     "output_type": "stream",
     "text": [
      "[[ 1  2  3]\n",
      " [ 4  5  6]\n",
      " [ 7  8  9]\n",
      " [10 11 12]]\n",
      "[[[ 1  2]\n",
      "  [ 3  4]\n",
      "  [ 5  6]]\n",
      "\n",
      " [[ 7  8]\n",
      "  [ 9 10]\n",
      "  [11 12]]]\n"
     ]
    }
   ],
   "source": [
    "# Reshaping means changing the shape of an array.\n",
    "# We can reshape as long as the elements required for reshaping are equal in both shapes.\n",
    "arr = np.array([1, 2, 3, 4, 5, 6, 7, 8, 9, 10, 11, 12])\n",
    "newarr = arr.reshape(4, 3) # Creating a 4-Dimensions array (4 subarrays) with 3 elements each.\n",
    "print(newarr)\n",
    "\n",
    "arr2 = np.array([1, 2, 3, 4, 5, 6, 7, 8, 9, 10, 11, 12])\n",
    "newarr2 = arr2.reshape(2, 3, 2) # Creating a 2D array (2 subarrays) each subarray is a 3D array with 2 elements on each.\n",
    "print(newarr2)"
   ]
  },
  {
   "cell_type": "markdown",
   "metadata": {},
   "source": [
    "## NumPy Array Iterating"
   ]
  },
  {
   "cell_type": "code",
   "execution_count": 48,
   "metadata": {},
   "outputs": [
    {
     "name": "stdout",
     "output_type": "stream",
     "text": [
      "1\n",
      "2\n",
      "3\n",
      "1\n",
      "2\n",
      "3\n",
      "4\n",
      "5\n",
      "6\n"
     ]
    }
   ],
   "source": [
    "arr = np.array([1, 2, 3])\n",
    "for element in arr: #Iterating over the elements using for-each loop.\n",
    "  print(element)\n",
    "\n",
    "arr2 = np.array([[1, 2, 3], [4, 5, 6]])\n",
    "for subArr in arr2: # x = [1, 2, 3]\n",
    "  for y in subArr:\n",
    "    print(y)"
   ]
  },
  {
   "cell_type": "markdown",
   "metadata": {},
   "source": [
    "## NumPy Joining Arrays"
   ]
  },
  {
   "cell_type": "code",
   "execution_count": 52,
   "metadata": {},
   "outputs": [
    {
     "name": "stdout",
     "output_type": "stream",
     "text": [
      "Arr Whole: 1 2 3 4 5 6\n",
      "arrays joined along rows:  [[1 2 5 6]\n",
      " [3 4 7 8]]\n",
      "arrays joined along columns:  [[1 2]\n",
      " [3 4]\n",
      " [5 6]\n",
      " [7 8]]\n"
     ]
    }
   ],
   "source": [
    "arr1 = np.array([1, 2, 3])\n",
    "arr2 = np.array([4, 5, 6])\n",
    "arrWhole = np.concatenate((arr1, arr2))\n",
    "print(\"Arr Whole:\", *arrWhole)\n",
    "\n",
    "# Join two 2-D arrays along rows (axis=1):\n",
    "arr3 = np.array([[1, 2], [3, 4]])\n",
    "arr4 = np.array([[5, 6], [7, 8]])\n",
    "arrJoinedByRows = np.concatenate((arr3, arr4), axis=1) #[1, 2, 5, 6] Elements of the first rows, [3, 4, 7, 8] Elements of the second rows.\n",
    "print(\"arrays joined along rows: \", arrJoinedByRows)\n",
    "arrJoinedByCols = np.concatenate((arr3, arr4), axis=0)\n",
    "print(\"arrays joined along columns: \", arrJoinedByCols)"
   ]
  },
  {
   "cell_type": "markdown",
   "metadata": {},
   "source": [
    "## NumPy Array Split"
   ]
  },
  {
   "cell_type": "code",
   "execution_count": 55,
   "metadata": {},
   "outputs": [
    {
     "name": "stdout",
     "output_type": "stream",
     "text": [
      "[array([1, 2]), array([3, 4]), array([5, 6])]\n",
      "[array([[ 1],\n",
      "       [ 4],\n",
      "       [ 7],\n",
      "       [10],\n",
      "       [13],\n",
      "       [16]]), array([[ 2],\n",
      "       [ 5],\n",
      "       [ 8],\n",
      "       [11],\n",
      "       [14],\n",
      "       [17]]), array([[ 3],\n",
      "       [ 6],\n",
      "       [ 9],\n",
      "       [12],\n",
      "       [15],\n",
      "       [18]])]\n"
     ]
    }
   ],
   "source": [
    "# Splitting is the reverse operation of JOIN\n",
    "arr = np.array([1, 2, 3, 4, 5, 6])\n",
    "newarr = np.array_split(arr, 3) # Splitting the dataset into 3 different subarrays. \n",
    "# The return value is a list containing three arrays.\n",
    "print(newarr)\n",
    "\n",
    "arr1 = np.array([[1, 2, 3], [4, 5, 6], [7, 8, 9], [10, 11, 12], [13, 14, 15], [16, 17, 18]])\n",
    "#  returns three 2-D arrays, but they are split along the row (axis=1).\n",
    "newarr2 = np.array_split(arr1, 3, axis=1)\n",
    "print(newarr2)"
   ]
  },
  {
   "cell_type": "markdown",
   "metadata": {},
   "source": [
    "## NumPy Array Search"
   ]
  },
  {
   "cell_type": "code",
   "execution_count": 59,
   "metadata": {},
   "outputs": [
    {
     "name": "stdout",
     "output_type": "stream",
     "text": [
      "(array([3, 5, 6], dtype=int64),)\n",
      "1\n",
      "2\n",
      "[1 3 7]\n"
     ]
    }
   ],
   "source": [
    "# search an array for a certain value, and return the indexes that get a match.\n",
    "arr = np.array([1, 2, 3, 4, 5, 4, 4])\n",
    "x = np.where(arr == 4)\n",
    "print(x)\n",
    "\n",
    "# There is a method called searchsorted() which performs a binary search in the array, and returns the index where the specified value would be inserted to maintain the search order.\n",
    "arr1 = np.array([6, 7, 8, 9])\n",
    "x1 = np.searchsorted(arr1, 7)\n",
    "print(x1)\n",
    "\n",
    "# Search from right-side\n",
    "arr2 = np.array([6, 7, 8, 9])\n",
    "x2 = np.searchsorted(arr2, 7, side='right')\n",
    "print(x2) # return the right most index instead.\n",
    "\n",
    "# Multiple values search\n",
    "arr3 = np.array([1, 3, 5, 7])\n",
    "x3 = np.searchsorted(arr, [2, 4, 6]) # Find the indexes where the values 2, 4, and 6 should be inserted:\n",
    "print(x3)"
   ]
  },
  {
   "cell_type": "markdown",
   "metadata": {},
   "source": [
    "## NumPy Array Sort"
   ]
  },
  {
   "cell_type": "code",
   "execution_count": 60,
   "metadata": {},
   "outputs": [
    {
     "name": "stdout",
     "output_type": "stream",
     "text": [
      "[0 1 2 3]\n",
      "[[2 3 4]\n",
      " [0 1 5]]\n"
     ]
    }
   ],
   "source": [
    "arr = np.array([3, 2, 0, 1])\n",
    "print(np.sort(arr)) # Sorted ascending\n",
    "\n",
    "arr2 = np.array([[3, 2, 4], [5, 0, 1]])\n",
    "print(np.sort(arr2))"
   ]
  },
  {
   "cell_type": "markdown",
   "metadata": {},
   "source": [
    "## NumPy Array Filter"
   ]
  },
  {
   "cell_type": "code",
   "execution_count": 63,
   "metadata": {},
   "outputs": [
    {
     "name": "stdout",
     "output_type": "stream",
     "text": [
      "[41 43]\n",
      "[False False  True  True]\n",
      "[43 44]\n",
      "[False False  True  True]\n",
      "[2 4 6]\n"
     ]
    }
   ],
   "source": [
    "arr = np.array([41, 42, 43, 44])\n",
    "x = [True, False, True, False]\n",
    "newarr = arr[x]\n",
    "print(newarr) #Only elements matched with TRUE\n",
    "\n",
    "arr2 = np.array([41, 42, 43, 44])\n",
    "filter_arr = arr2 > 42\n",
    "newarr2 = arr2[filter_arr]\n",
    "print(filter_arr)\n",
    "print(newarr2)\n",
    "\n",
    "arr3 = np.array([1, 2, 3, 4, 5, 6, 7])\n",
    "filter_arr3 = arr3 % 2 == 0 # Even numbers\n",
    "newarr3 = arr3[filter_arr3]\n",
    "print(filter_arr)\n",
    "print(newarr3)"
   ]
  }
 ],
 "metadata": {
  "kernelspec": {
   "display_name": "Python 3",
   "language": "python",
   "name": "python3"
  },
  "language_info": {
   "codemirror_mode": {
    "name": "ipython",
    "version": 3
   },
   "file_extension": ".py",
   "mimetype": "text/x-python",
   "name": "python",
   "nbconvert_exporter": "python",
   "pygments_lexer": "ipython3",
   "version": "3.12.2"
  }
 },
 "nbformat": 4,
 "nbformat_minor": 2
}
